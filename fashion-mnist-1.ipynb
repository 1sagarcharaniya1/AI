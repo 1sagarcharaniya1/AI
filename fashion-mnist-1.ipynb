{
 "cells": [
  {
   "cell_type": "code",
   "execution_count": 1,
   "id": "006d6db0",
   "metadata": {
    "_cell_guid": "b1076dfc-b9ad-4769-8c92-a6c4dae69d19",
    "_uuid": "8f2839f25d086af736a60e9eeb907d3b93b6e0e5",
    "execution": {
     "iopub.execute_input": "2023-02-17T12:39:55.163135Z",
     "iopub.status.busy": "2023-02-17T12:39:55.162541Z",
     "iopub.status.idle": "2023-02-17T12:40:05.311324Z",
     "shell.execute_reply": "2023-02-17T12:40:05.309769Z"
    },
    "papermill": {
     "duration": 10.163306,
     "end_time": "2023-02-17T12:40:05.314776",
     "exception": false,
     "start_time": "2023-02-17T12:39:55.151470",
     "status": "completed"
    },
    "tags": []
   },
   "outputs": [],
   "source": [
    "import tensorflow as tf"
   ]
  },
  {
   "cell_type": "code",
   "execution_count": 2,
   "id": "7b6da840",
   "metadata": {
    "execution": {
     "iopub.execute_input": "2023-02-17T12:40:05.327864Z",
     "iopub.status.busy": "2023-02-17T12:40:05.325938Z",
     "iopub.status.idle": "2023-02-17T12:40:05.331887Z",
     "shell.execute_reply": "2023-02-17T12:40:05.330938Z"
    },
    "papermill": {
     "duration": 0.014805,
     "end_time": "2023-02-17T12:40:05.334493",
     "exception": false,
     "start_time": "2023-02-17T12:40:05.319688",
     "status": "completed"
    },
    "tags": []
   },
   "outputs": [],
   "source": [
    "import matplotlib.pyplot as plt"
   ]
  },
  {
   "cell_type": "code",
   "execution_count": 3,
   "id": "b3a99eb2",
   "metadata": {
    "execution": {
     "iopub.execute_input": "2023-02-17T12:40:05.345710Z",
     "iopub.status.busy": "2023-02-17T12:40:05.345190Z",
     "iopub.status.idle": "2023-02-17T12:40:05.351075Z",
     "shell.execute_reply": "2023-02-17T12:40:05.349349Z"
    },
    "papermill": {
     "duration": 0.015238,
     "end_time": "2023-02-17T12:40:05.354035",
     "exception": false,
     "start_time": "2023-02-17T12:40:05.338797",
     "status": "completed"
    },
    "tags": []
   },
   "outputs": [],
   "source": [
    "data = tf.keras.datasets.fashion_mnist"
   ]
  },
  {
   "cell_type": "code",
   "execution_count": 4,
   "id": "562102c6",
   "metadata": {
    "execution": {
     "iopub.execute_input": "2023-02-17T12:40:05.364685Z",
     "iopub.status.busy": "2023-02-17T12:40:05.364162Z",
     "iopub.status.idle": "2023-02-17T12:40:06.776594Z",
     "shell.execute_reply": "2023-02-17T12:40:06.775000Z"
    },
    "papermill": {
     "duration": 1.422547,
     "end_time": "2023-02-17T12:40:06.780868",
     "exception": false,
     "start_time": "2023-02-17T12:40:05.358321",
     "status": "completed"
    },
    "tags": []
   },
   "outputs": [
    {
     "name": "stdout",
     "output_type": "stream",
     "text": [
      "Downloading data from https://storage.googleapis.com/tensorflow/tf-keras-datasets/train-labels-idx1-ubyte.gz\n",
      "29515/29515 [==============================] - 0s 0us/step\n",
      "Downloading data from https://storage.googleapis.com/tensorflow/tf-keras-datasets/train-images-idx3-ubyte.gz\n",
      "26421880/26421880 [==============================] - 0s 0us/step\n",
      "Downloading data from https://storage.googleapis.com/tensorflow/tf-keras-datasets/t10k-labels-idx1-ubyte.gz\n",
      "5148/5148 [==============================] - 0s 0us/step\n",
      "Downloading data from https://storage.googleapis.com/tensorflow/tf-keras-datasets/t10k-images-idx3-ubyte.gz\n",
      "4422102/4422102 [==============================] - 0s 0us/step\n"
     ]
    }
   ],
   "source": [
    "(training_images, training_labels), (test_images, test_labels) = data.load_data()"
   ]
  },
  {
   "cell_type": "code",
   "execution_count": 5,
   "id": "24d66815",
   "metadata": {
    "execution": {
     "iopub.execute_input": "2023-02-17T12:40:06.802175Z",
     "iopub.status.busy": "2023-02-17T12:40:06.801613Z",
     "iopub.status.idle": "2023-02-17T12:40:07.084675Z",
     "shell.execute_reply": "2023-02-17T12:40:07.083259Z"
    },
    "papermill": {
     "duration": 0.2956,
     "end_time": "2023-02-17T12:40:07.087852",
     "exception": false,
     "start_time": "2023-02-17T12:40:06.792252",
     "status": "completed"
    },
    "tags": []
   },
   "outputs": [],
   "source": [
    "training_images = training_images / 255.0\n",
    "test_images = test_images / 255.0"
   ]
  },
  {
   "cell_type": "code",
   "execution_count": 6,
   "id": "6992526d",
   "metadata": {
    "execution": {
     "iopub.execute_input": "2023-02-17T12:40:07.100137Z",
     "iopub.status.busy": "2023-02-17T12:40:07.099628Z",
     "iopub.status.idle": "2023-02-17T12:40:07.256874Z",
     "shell.execute_reply": "2023-02-17T12:40:07.255181Z"
    },
    "papermill": {
     "duration": 0.167511,
     "end_time": "2023-02-17T12:40:07.260341",
     "exception": false,
     "start_time": "2023-02-17T12:40:07.092830",
     "status": "completed"
    },
    "tags": []
   },
   "outputs": [
    {
     "name": "stderr",
     "output_type": "stream",
     "text": [
      "2023-02-17 12:40:07.141825: W tensorflow/stream_executor/platform/default/dso_loader.cc:64] Could not load dynamic library 'libcuda.so.1'; dlerror: libcuda.so.1: cannot open shared object file: No such file or directory; LD_LIBRARY_PATH: /usr/local/cuda/lib64:/usr/local/cuda/lib:/usr/local/lib/x86_64-linux-gnu:/usr/local/nvidia/lib:/usr/local/nvidia/lib64::/opt/conda/lib\n",
      "2023-02-17 12:40:07.141903: W tensorflow/stream_executor/cuda/cuda_driver.cc:269] failed call to cuInit: UNKNOWN ERROR (303)\n"
     ]
    }
   ],
   "source": [
    "model = tf.keras.models.Sequential([tf.keras.layers.Flatten(input_shape=(28, 28)),\n",
    "                                    tf.keras.layers.Dense(128, activation=tf.nn.relu),\n",
    "                                    tf.keras.layers.Dense(10, activation=tf.nn.softmax)])"
   ]
  },
  {
   "cell_type": "code",
   "execution_count": 7,
   "id": "9f055e9c",
   "metadata": {
    "execution": {
     "iopub.execute_input": "2023-02-17T12:40:07.272966Z",
     "iopub.status.busy": "2023-02-17T12:40:07.272435Z",
     "iopub.status.idle": "2023-02-17T12:40:07.293591Z",
     "shell.execute_reply": "2023-02-17T12:40:07.292143Z"
    },
    "papermill": {
     "duration": 0.031056,
     "end_time": "2023-02-17T12:40:07.296589",
     "exception": false,
     "start_time": "2023-02-17T12:40:07.265533",
     "status": "completed"
    },
    "tags": []
   },
   "outputs": [],
   "source": [
    "model.compile(optimizer='adam',loss='sparse_categorical_crossentropy',metrics=['accuracy'])"
   ]
  },
  {
   "cell_type": "code",
   "execution_count": 8,
   "id": "73b8b592",
   "metadata": {
    "execution": {
     "iopub.execute_input": "2023-02-17T12:40:07.309280Z",
     "iopub.status.busy": "2023-02-17T12:40:07.308718Z",
     "iopub.status.idle": "2023-02-17T12:42:09.100348Z",
     "shell.execute_reply": "2023-02-17T12:42:09.098826Z"
    },
    "papermill": {
     "duration": 121.802484,
     "end_time": "2023-02-17T12:42:09.104325",
     "exception": false,
     "start_time": "2023-02-17T12:40:07.301841",
     "status": "completed"
    },
    "tags": []
   },
   "outputs": [
    {
     "name": "stdout",
     "output_type": "stream",
     "text": [
      "Epoch 1/20\n",
      "1875/1875 [==============================] - 6s 3ms/step - loss: 0.4973 - accuracy: 0.8254\n",
      "Epoch 2/20\n",
      "1875/1875 [==============================] - 6s 3ms/step - loss: 0.3743 - accuracy: 0.8652\n",
      "Epoch 3/20\n",
      "1875/1875 [==============================] - 6s 3ms/step - loss: 0.3366 - accuracy: 0.8770\n",
      "Epoch 4/20\n",
      "1875/1875 [==============================] - 6s 3ms/step - loss: 0.3112 - accuracy: 0.8855\n",
      "Epoch 5/20\n",
      "1875/1875 [==============================] - 6s 3ms/step - loss: 0.2932 - accuracy: 0.8918\n",
      "Epoch 6/20\n",
      "1875/1875 [==============================] - 6s 3ms/step - loss: 0.2781 - accuracy: 0.8971\n",
      "Epoch 7/20\n",
      "1875/1875 [==============================] - 6s 3ms/step - loss: 0.2665 - accuracy: 0.9013\n",
      "Epoch 8/20\n",
      "1875/1875 [==============================] - 6s 3ms/step - loss: 0.2561 - accuracy: 0.9047\n",
      "Epoch 9/20\n",
      "1875/1875 [==============================] - 6s 3ms/step - loss: 0.2465 - accuracy: 0.9065\n",
      "Epoch 10/20\n",
      "1875/1875 [==============================] - 6s 3ms/step - loss: 0.2378 - accuracy: 0.9114\n",
      "Epoch 11/20\n",
      "1875/1875 [==============================] - 6s 3ms/step - loss: 0.2281 - accuracy: 0.9145\n",
      "Epoch 12/20\n",
      "1875/1875 [==============================] - 6s 3ms/step - loss: 0.2200 - accuracy: 0.9178\n",
      "Epoch 13/20\n",
      "1875/1875 [==============================] - 6s 3ms/step - loss: 0.2145 - accuracy: 0.9199\n",
      "Epoch 14/20\n",
      "1875/1875 [==============================] - 6s 3ms/step - loss: 0.2075 - accuracy: 0.9212\n",
      "Epoch 15/20\n",
      "1875/1875 [==============================] - 6s 3ms/step - loss: 0.2018 - accuracy: 0.9240\n",
      "Epoch 16/20\n",
      "1875/1875 [==============================] - 6s 3ms/step - loss: 0.1960 - accuracy: 0.9261\n",
      "Epoch 17/20\n",
      "1875/1875 [==============================] - 6s 3ms/step - loss: 0.1914 - accuracy: 0.9285\n",
      "Epoch 18/20\n",
      "1875/1875 [==============================] - 6s 3ms/step - loss: 0.1866 - accuracy: 0.9299\n",
      "Epoch 19/20\n",
      "1875/1875 [==============================] - 6s 3ms/step - loss: 0.1823 - accuracy: 0.9311\n",
      "Epoch 20/20\n",
      "1875/1875 [==============================] - 6s 3ms/step - loss: 0.1787 - accuracy: 0.9323\n"
     ]
    },
    {
     "data": {
      "text/plain": [
       "<keras.callbacks.History at 0x7f29db3caa10>"
      ]
     },
     "execution_count": 8,
     "metadata": {},
     "output_type": "execute_result"
    }
   ],
   "source": [
    "model.fit(training_images, training_labels, epochs=20)"
   ]
  },
  {
   "cell_type": "code",
   "execution_count": 9,
   "id": "c9be4d4d",
   "metadata": {
    "execution": {
     "iopub.execute_input": "2023-02-17T12:42:09.426595Z",
     "iopub.status.busy": "2023-02-17T12:42:09.425649Z",
     "iopub.status.idle": "2023-02-17T12:42:10.392610Z",
     "shell.execute_reply": "2023-02-17T12:42:10.391470Z"
    },
    "papermill": {
     "duration": 1.131946,
     "end_time": "2023-02-17T12:42:10.395399",
     "exception": false,
     "start_time": "2023-02-17T12:42:09.263453",
     "status": "completed"
    },
    "tags": []
   },
   "outputs": [
    {
     "name": "stdout",
     "output_type": "stream",
     "text": [
      "313/313 [==============================] - 1s 2ms/step - loss: 0.3600 - accuracy: 0.8877\n"
     ]
    },
    {
     "data": {
      "text/plain": [
       "[0.360025554895401, 0.8877000212669373]"
      ]
     },
     "execution_count": 9,
     "metadata": {},
     "output_type": "execute_result"
    }
   ],
   "source": [
    "model.evaluate(test_images, test_labels)"
   ]
  },
  {
   "cell_type": "code",
   "execution_count": 10,
   "id": "96959a35",
   "metadata": {
    "execution": {
     "iopub.execute_input": "2023-02-17T12:42:10.716365Z",
     "iopub.status.busy": "2023-02-17T12:42:10.715781Z",
     "iopub.status.idle": "2023-02-17T12:42:11.531172Z",
     "shell.execute_reply": "2023-02-17T12:42:11.529344Z"
    },
    "papermill": {
     "duration": 0.979959,
     "end_time": "2023-02-17T12:42:11.535352",
     "exception": false,
     "start_time": "2023-02-17T12:42:10.555393",
     "status": "completed"
    },
    "tags": []
   },
   "outputs": [
    {
     "name": "stdout",
     "output_type": "stream",
     "text": [
      "313/313 [==============================] - 1s 2ms/step\n",
      "[2.4940088e-01 6.6751202e-11 1.6196426e-02 9.8779936e-05 2.6028659e-03\n",
      " 5.6612021e-07 7.3165548e-01 4.5123466e-05 1.0374842e-09 4.0711177e-09]\n",
      "6\n"
     ]
    }
   ],
   "source": [
    "classifications = model.predict(test_images)\n",
    "print(classifications[4])\n",
    "print(test_labels[4])"
   ]
  },
  {
   "cell_type": "code",
   "execution_count": null,
   "id": "fe7169cd",
   "metadata": {
    "papermill": {
     "duration": 0.161471,
     "end_time": "2023-02-17T12:42:11.858808",
     "exception": false,
     "start_time": "2023-02-17T12:42:11.697337",
     "status": "completed"
    },
    "tags": []
   },
   "outputs": [],
   "source": []
  },
  {
   "cell_type": "code",
   "execution_count": null,
   "id": "4144f29f",
   "metadata": {
    "papermill": {
     "duration": 0.161953,
     "end_time": "2023-02-17T12:42:12.284316",
     "exception": false,
     "start_time": "2023-02-17T12:42:12.122363",
     "status": "completed"
    },
    "tags": []
   },
   "outputs": [],
   "source": []
  },
  {
   "cell_type": "code",
   "execution_count": null,
   "id": "27582263",
   "metadata": {
    "papermill": {
     "duration": 0.162223,
     "end_time": "2023-02-17T12:42:12.610986",
     "exception": false,
     "start_time": "2023-02-17T12:42:12.448763",
     "status": "completed"
    },
    "tags": []
   },
   "outputs": [],
   "source": []
  }
 ],
 "metadata": {
  "kernelspec": {
   "display_name": "Python 3",
   "language": "python",
   "name": "python3"
  },
  "language_info": {
   "codemirror_mode": {
    "name": "ipython",
    "version": 3
   },
   "file_extension": ".py",
   "mimetype": "text/x-python",
   "name": "python",
   "nbconvert_exporter": "python",
   "pygments_lexer": "ipython3",
   "version": "3.7.12"
  },
  "papermill": {
   "default_parameters": {},
   "duration": 151.414186,
   "end_time": "2023-02-17T12:42:16.338676",
   "environment_variables": {},
   "exception": null,
   "input_path": "__notebook__.ipynb",
   "output_path": "__notebook__.ipynb",
   "parameters": {},
   "start_time": "2023-02-17T12:39:44.924490",
   "version": "2.3.4"
  }
 },
 "nbformat": 4,
 "nbformat_minor": 5
}
